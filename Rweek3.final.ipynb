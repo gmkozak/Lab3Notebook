{
 "cells": [
  {
   "cell_type": "markdown",
   "metadata": {},
   "source": [
    "First we load the packages (we need to do this at the start of every session either using library or by checking the boxes under packages in Rstudio)"
   ]
  },
  {
   "cell_type": "code",
   "execution_count": null,
   "metadata": {},
   "outputs": [],
   "source": [
    "library(plyr)\n",
    "library(mosaic)\n",
    "library(mosaicData)\n",
    "library(sciplot)"
   ]
  },
  {
   "cell_type": "markdown",
   "metadata": {},
   "source": [
    "We will use SaratogaHouses from the mosaicData package"
   ]
  },
  {
   "cell_type": "code",
   "execution_count": null,
   "metadata": {},
   "outputs": [],
   "source": [
    "data(SaratogaHouses)\n",
    "summary(SaratogaHouses)"
   ]
  },
  {
   "cell_type": "markdown",
   "metadata": {},
   "source": [
    "Percentiles and coverage intervals\n",
    "\n",
    "By know you should have understood that in statistics we are  really interested in estimating variation. One way to estimate  variation is by percentiles and coverage intervals\n",
    "\n",
    "▶ 25th percentile is the value in your data above 1/4 of them\n",
    "▶ 75th percentile is the value in your data above 3/4 of them\n",
    "▶ 50th percentile is the value in your data above 1/2 of them (Corresponds to the sample median)\n",
    "▶ interquartile range (IQR) between 25th and 75th percentiles corresponds to 50% coverage interval\n",
    "\n",
    "In R we can calculate percentiles/ranges by using the qdata and pdata functions \n",
    "\n",
    "\n",
    "Get the 25th, 75th and interquartile range for livingArea of the houses"
   ]
  },
  {
   "cell_type": "code",
   "execution_count": null,
   "metadata": {},
   "outputs": [],
   "source": [
    "\n",
    "qdata(SaratogaHouses$livingArea, 0.25)\n",
    "\n",
    "qdata(SaratogaHouses$livingArea, 0.75)\n",
    "\n",
    "IQR(SaratogaHouses$livingArea)"
   ]
  },
  {
   "cell_type": "markdown",
   "metadata": {},
   "source": [
    "Get the list of percentiles 0-100:"
   ]
  },
  {
   "cell_type": "code",
   "execution_count": null,
   "metadata": {},
   "outputs": [],
   "source": [
    "qdata(SaratogaHouses$livingArea, seq(0,1,by=0.1))"
   ]
  },
  {
   "cell_type": "markdown",
   "metadata": {},
   "source": [
    "Last week, we learned the table command, let's use it to get the frequence of houses with central air:"
   ]
  },
  {
   "cell_type": "code",
   "execution_count": null,
   "metadata": {},
   "outputs": [],
   "source": [
    "freq_air= table(SaratogaHouses$centralAir)\n",
    "freq_air"
   ]
  },
  {
   "cell_type": "markdown",
   "metadata": {},
   "source": [
    "Now we want to summarize the houses by heating fuel type"
   ]
  },
  {
   "cell_type": "code",
   "execution_count": null,
   "metadata": {},
   "outputs": [],
   "source": [
    "freq_fuel=table(SaratogaHouses$fuel)\n",
    "freq_fuel"
   ]
  },
  {
   "cell_type": "markdown",
   "metadata": {},
   "source": [
    "Now we want to summarize the number of houses based on both air and heating"
   ]
  },
  {
   "cell_type": "code",
   "execution_count": null,
   "metadata": {},
   "outputs": [],
   "source": [
    "freq_air_fuel= table(SaratogaHouses$centralAir,SaratogaHouses$fuel)\n",
    "\n",
    "freq_air_fuel"
   ]
  },
  {
   "cell_type": "markdown",
   "metadata": {},
   "source": [
    "What is the probability that a random house in this data set has central air and have electric heat?\n",
    "Get the numbers from the table.\n",
    "In R, the first element is the row number, the second element is the column number.\n",
    "table[1,1] is the first row first column"
   ]
  },
  {
   "cell_type": "code",
   "execution_count": null,
   "metadata": {},
   "outputs": [],
   "source": [
    "num_el_air=freq_air_fuel[1,2]\n",
    "num_el_air"
   ]
  },
  {
   "cell_type": "code",
   "execution_count": null,
   "metadata": {},
   "outputs": [],
   "source": [
    "numtotal=sum(freq_air_fuel)\n",
    "numtotal"
   ]
  },
  {
   "cell_type": "code",
   "execution_count": null,
   "metadata": {},
   "outputs": [],
   "source": [
    "Prob=num_el_air/numtotal\n",
    "Prob"
   ]
  },
  {
   "cell_type": "markdown",
   "metadata": {},
   "source": [
    "Now we can plot this two way table:"
   ]
  },
  {
   "cell_type": "code",
   "execution_count": null,
   "metadata": {},
   "outputs": [],
   "source": [
    "barplot(freq_air_fuel, col=c(\"purple\",\"orange\"),\n",
    "xlab=\"Fuel Type\", ylab=\"Counts\",\n",
    "legend=c(\"Air-Yes\",\"Air-No\"))"
   ]
  },
  {
   "cell_type": "markdown",
   "metadata": {},
   "source": [
    "Usually we want separate bars, so we set beside = TRUE"
   ]
  },
  {
   "cell_type": "code",
   "execution_count": null,
   "metadata": {},
   "outputs": [],
   "source": [
    "barplot(freq_air_fuel, col=c(\"purple\",\"orange\"),\n",
    "xlab=\"Fuel Type\", ylab=\"Counts\",\n",
    "legend=c(\"Air-Yes\",\"Air-No\"),beside=TRUE)"
   ]
  },
  {
   "cell_type": "markdown",
   "metadata": {},
   "source": [
    "If we want to reorder it, let's use the level factor command from last week:"
   ]
  },
  {
   "cell_type": "code",
   "execution_count": null,
   "metadata": {},
   "outputs": [],
   "source": [
    "SaratogaHouses$fuel<-factor(SaratogaHouses$fuel,\n",
    "                         levels=c(\"oil\",\"gas\",\"electric\"))\n",
    "freq_air_fuel2= table(SaratogaHouses$centralAir,SaratogaHouses$fuel)\n",
    "barplot(freq_air_fuel2, col=c(\"purple\",\"orange\"),\n",
    "xlab=\"Fuel Type\", ylab=\"Counts\",\n",
    "legend=c(\"Air-Yes\",\"Air-No\"),beside=TRUE)"
   ]
  },
  {
   "cell_type": "markdown",
   "metadata": {},
   "source": [
    "If we want to add standard deviation error bars to a plot of continuous variable (living area)\n",
    "we use the sciplot package"
   ]
  },
  {
   "cell_type": "code",
   "execution_count": null,
   "metadata": {},
   "outputs": [],
   "source": [
    "bargraph.CI(SaratogaHouses$fuel,SaratogaHouses$livingArea,\n",
    "            xlab=\"Fuel Type\",\n",
    "            ylab=\"Living Area\", \n",
    "            ci.fun=function(x) \n",
    "              c(mean(x)-sd(x),mean(x)+sd(x)),col=c(\"purple\"))"
   ]
  },
  {
   "cell_type": "markdown",
   "metadata": {},
   "source": [
    "Here is the same graph but we just display the top standard deviation as an error bar"
   ]
  },
  {
   "cell_type": "code",
   "execution_count": null,
   "metadata": {},
   "outputs": [],
   "source": [
    "bargraph.CI(SaratogaHouses$fuel,SaratogaHouses$livingArea,\n",
    "            xlab=\"Fuel Type\",\n",
    "            ylab=\"Living Area\", \n",
    "            ci.fun=function(x) \n",
    "              c(mean(x),mean(x)+sd(x)),col=c(\"purple\"))"
   ]
  },
  {
   "cell_type": "markdown",
   "metadata": {},
   "source": [
    "Can also make using the package plyr (from the tidyverse) to make a summary for continuous variables by some factor (Species here). Let's use the iris data set which is included in R:"
   ]
  },
  {
   "cell_type": "code",
   "execution_count": null,
   "metadata": {},
   "outputs": [],
   "source": [
    "summary(iris)"
   ]
  },
  {
   "cell_type": "code",
   "execution_count": null,
   "metadata": {},
   "outputs": [],
   "source": [
    "sum.iris<-ddply(iris,c(\"Species\"),summarise, mean_sepal = mean(Sepal.Length), \n",
    "                upper_sepal = (mean(Sepal.Length) + sd(Sepal.Length)), lower_sepal = (mean(Sepal.Length))- sd(Sepal.Length))\n",
    "\n",
    "sum.iris"
   ]
  },
  {
   "cell_type": "markdown",
   "metadata": {},
   "source": [
    "Then we can use ggplot to plot it.\n",
    "The \"geom_bar\" in ggplot tells it to do a bar graph."
   ]
  },
  {
   "cell_type": "code",
   "execution_count": null,
   "metadata": {},
   "outputs": [],
   "source": [
    "ggplot(sum.iris,aes(x=Species, y=mean_sepal,fill=Species))+\n",
    "    geom_bar(stat=\"identity\")+ \n",
    "    geom_errorbar(aes(ymin=lower_sepal, ymax=upper_sepal),width=.2)+\n",
    "    xlab(\"Iris Species\")+  ylab(\"Sepal Length\")+  theme_classic()"
   ]
  },
  {
   "cell_type": "markdown",
   "metadata": {},
   "source": [
    "Now let's shift to a boxplot in ggplot using geom_boxplot and the regular iris data"
   ]
  },
  {
   "cell_type": "code",
   "execution_count": null,
   "metadata": {},
   "outputs": [],
   "source": [
    "ggplot(iris,aes(x=Species, y=Sepal.Length,fill=Species))+\n",
    "    geom_boxplot()+ \n",
    "    xlab(\"Iris Species\")+  ylab(\"Sepal Length\")+  theme_classic()"
   ]
  },
  {
   "cell_type": "markdown",
   "metadata": {},
   "source": [
    "For continuous variables use ggplot and geom_point.\n",
    "Stat_smooth adds a line."
   ]
  },
  {
   "cell_type": "code",
   "execution_count": null,
   "metadata": {},
   "outputs": [],
   "source": [
    "ggplot(iris,aes(x=Petal.Length, y=Sepal.Length))+  geom_point(color=\"blue\",size=2)+\n",
    "xlab(\"Petal.Length\")+  ylab(\"Sepal.Length\")+ stat_smooth(method = \"lm\", se = FALSE) + theme_classic()"
   ]
  },
  {
   "cell_type": "markdown",
   "metadata": {},
   "source": [
    "Now let's add a shaded interval is the 95% CI for the linear relationship."
   ]
  },
  {
   "cell_type": "code",
   "execution_count": null,
   "metadata": {},
   "outputs": [],
   "source": [
    "ggplot(iris,aes(x=Petal.Length, y=Sepal.Length))+  geom_point(color=\"blue\",size=2)+\n",
    "xlab(\"Petal.Length\")+  ylab(\"Sepal.Length\")+  stat_smooth(method = \"lm\",se = TRUE)+  theme_classic()"
   ]
  },
  {
   "cell_type": "markdown",
   "metadata": {},
   "source": [
    "Now let's separate the points by species using group and color"
   ]
  },
  {
   "cell_type": "code",
   "execution_count": null,
   "metadata": {},
   "outputs": [],
   "source": [
    "ggplot(iris,aes(x=Petal.Length, y=Sepal.Length, group=Species,color=Species))+  geom_point()+\n",
    "xlab(\"Petal.Length\")+  ylab(\"Sepal.Length\")+ stat_smooth(method = \"lm\", se = FALSE)+ theme_classic()"
   ]
  }
 ],
 "metadata": {
  "kernelspec": {
   "display_name": "R",
   "language": "R",
   "name": "ir"
  },
  "language_info": {
   "codemirror_mode": "r",
   "file_extension": ".r",
   "mimetype": "text/x-r-source",
   "name": "R",
   "pygments_lexer": "r",
   "version": "3.5.1"
  }
 },
 "nbformat": 4,
 "nbformat_minor": 4
}
