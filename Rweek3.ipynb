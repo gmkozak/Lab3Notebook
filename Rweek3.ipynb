{
 "cells": [
  {
   "cell_type": "markdown",
   "metadata": {},
   "source": [
    "Percentiles and coverage intervals\n",
    "\n",
    "By know you should have understood that in statistics we are  really interested in estimating variation. One way to estimate  variation is by percentiles and coverage intervals\n",
    "\n",
    "▶ 25th percentile is the value in your data above 1/4 of them\n",
    "▶ 75th percentile is the value in your data above 3/4 of them\n",
    "▶ 50th percentile is the value in your data above 1/2 of them (Corresponds to the sample median)\n",
    "▶ interquartile range (IQR) between 25th and 75th percentiles corresponds to 50% coverage interval\n",
    "\n",
    "In R we can calculate percentiles/ranges by using the qdata and pdata functions \n",
    "\n",
    "We will use \"mtcars\" a data set in R about \"Motor Trend Car Road Tests\"\n",
    "\n",
    "First we load the packages:"
   ]
  },
  {
   "cell_type": "code",
   "execution_count": null,
   "metadata": {},
   "outputs": [],
   "source": [
    "library(plyr)\n",
    "library(mosaic)\n",
    "library(sciplot)"
   ]
  },
  {
   "cell_type": "markdown",
   "metadata": {},
   "source": [
    "Then we look at the data set"
   ]
  },
  {
   "cell_type": "code",
   "execution_count": null,
   "metadata": {},
   "outputs": [],
   "source": [
    "summary(mtcars)\n",
    "help(mtcars)"
   ]
  },
  {
   "cell_type": "markdown",
   "metadata": {},
   "source": [
    "Get the 25th, 75th and interquartile range:"
   ]
  },
  {
   "cell_type": "code",
   "execution_count": null,
   "metadata": {},
   "outputs": [],
   "source": [
    "qdata(mtcars$mpg, 0.25)\n",
    "\n",
    "qdata(mtcars$mpg, 0.75)\n",
    "\n",
    "IQR(mtcars$mpg)"
   ]
  },
  {
   "cell_type": "markdown",
   "metadata": {},
   "source": [
    "Get the list of percentiles 0-100:"
   ]
  },
  {
   "cell_type": "code",
   "execution_count": null,
   "metadata": {},
   "outputs": [],
   "source": [
    "qdata(mtcars$mtg, seq(0,1,by=0.1))"
   ]
  },
  {
   "cell_type": "markdown",
   "metadata": {},
   "source": [
    "Let's assume we want to summarize the number of cars based on different number of gears contained in the R mtcars dataframe\n",
    "First we use the table command:"
   ]
  },
  {
   "cell_type": "code",
   "execution_count": null,
   "metadata": {},
   "outputs": [],
   "source": [
    "freq_gear= table(mtcars$gear)\n",
    "freq_gear"
   ]
  },
  {
   "cell_type": "markdown",
   "metadata": {},
   "source": [
    "Then we can plot it:"
   ]
  },
  {
   "cell_type": "code",
   "execution_count": null,
   "metadata": {},
   "outputs": [],
   "source": [
    "barplot(freq_gear,\n",
    "col=\"blue\",xlab=\"Gear\",ylab= \"Cars\")"
   ]
  },
  {
   "cell_type": "markdown",
   "metadata": {},
   "source": [
    "Can also use ggplot to do this:"
   ]
  },
  {
   "cell_type": "code",
   "execution_count": null,
   "metadata": {},
   "outputs": [],
   "source": [
    "ggplot(mtcars, aes(gear))+\n",
    "geom_bar(color=\"blue\",\n",
    "fill=\"blue\")"
   ]
  },
  {
   "cell_type": "markdown",
   "metadata": {},
   "source": [
    "Now we want to summarize the number of cars based on both gears and carburetor:"
   ]
  },
  {
   "cell_type": "code",
   "execution_count": null,
   "metadata": {},
   "outputs": [],
   "source": [
    "freq_gear_carb=\n",
    "table(mtcars$gear,mtcars$carb)\n",
    "\n",
    "freq_gear_carb"
   ]
  },
  {
   "cell_type": "code",
   "execution_count": null,
   "metadata": {},
   "outputs": [],
   "source": [
    "barplot(freq_gear_carb, col=c(\"purple\",\"orange\",\"black\"),\n",
    "xlab=\"Carburation number\", ylab=\"Counts\",\n",
    "legend=c(\"Gear-3\",\"Gear-4\",\"Gear-5\"))"
   ]
  },
  {
   "cell_type": "markdown",
   "metadata": {},
   "source": [
    "Usually we want separate bars"
   ]
  },
  {
   "cell_type": "code",
   "execution_count": null,
   "metadata": {},
   "outputs": [],
   "source": [
    "barplot(freq_gear_carb, col=c(\"purple\",\"orange\",\"black\"),\n",
    "xlab=\"Carburation number\", ylab=\"Counts\",\n",
    "legend=c(\"Gear-3\",\"Gear-4\",\"Gear-5\"), beside = TRUE)"
   ]
  },
  {
   "cell_type": "markdown",
   "metadata": {},
   "source": [
    "Adding in error bars to a plot (using the sciplot package)"
   ]
  },
  {
   "cell_type": "code",
   "execution_count": null,
   "metadata": {},
   "outputs": [],
   "source": [
    "bargraph.CI(mtcars$gear,mtcars$mpg,\n",
    "            xlab=\"Gears\",\n",
    "            ylab=\"MPG\", \n",
    "            ci.fun=function(x) \n",
    "              c(mean(x)-sd(x),mean(x)+sd(x)))"
   ]
  },
  {
   "cell_type": "markdown",
   "metadata": {},
   "source": [
    "Same graph but just display the top standard deviation"
   ]
  },
  {
   "cell_type": "code",
   "execution_count": null,
   "metadata": {},
   "outputs": [],
   "source": [
    "bargraph.CI(mtcars$gear,mtcars$mpg,\n",
    "            xlab=\"Gears\",\n",
    "            ylab=\"MPG\",\n",
    "            ci.fun=function(x)\n",
    "            c(mean(x),mean(x)+sd(x)))"
   ]
  },
  {
   "cell_type": "code",
   "execution_count": null,
   "metadata": {},
   "outputs": [],
   "source": [
    "Can also make using plyr to make a summary\n",
    "We will use the iris data set:"
   ]
  },
  {
   "cell_type": "code",
   "execution_count": null,
   "metadata": {},
   "outputs": [],
   "source": [
    "summary(iris)\n",
    "\n",
    "sum.iris<-ddply(iris,c(\"Species\"),summarise, mean_sepal = mean(Sepal.Length), \n",
    "                upper_sepal = (mean(Sepal.Length) + sd(Sepal.Length)), lower_sepal = (mean(Sepal.Length))- sd(Sepal.Length))\n",
    "\n",
    "sum.iris"
   ]
  },
  {
   "cell_type": "markdown",
   "metadata": {},
   "source": [
    "Then we used ggplot to plot:"
   ]
  },
  {
   "cell_type": "code",
   "execution_count": null,
   "metadata": {},
   "outputs": [],
   "source": [
    "ggplot(sum.iris,aes(x=Species, y=mean_sepal,color=Species,fill=Species))+\n",
    "    geom_bar(aes(x=Species, y=mean_sepal),stat=\"identity\")+ \n",
    "    geom_errorbar(aes(ymin=lower_sepal, ymax=upper_sepal),width=.2)+\n",
    "    xlab(\"Iris Species\")+  ylab(\"Sepal Length\")+  theme_classic()"
   ]
  },
  {
   "cell_type": "markdown",
   "metadata": {},
   "source": [
    "For continuous variables you can use xyplot:"
   ]
  },
  {
   "cell_type": "code",
   "execution_count": null,
   "metadata": {},
   "outputs": [],
   "source": [
    "xyplot(Sepal.Length~Petal.Length,iris, type = c(\"p\", \"r\"))"
   ]
  },
  {
   "cell_type": "markdown",
   "metadata": {},
   "source": [
    "In ggplots use the following code.The shaded interval is the 95% CI for the linear relationship"
   ]
  },
  {
   "cell_type": "code",
   "execution_count": null,
   "metadata": {},
   "outputs": [],
   "source": [
    "ggplot(iris,aes(x=Petal.Length, y=Sepal.Length))+  geom_point(color=\"blue\",size=2)+\n",
    "xlab(\"Petal.Length\")+  ylab(\"Sepal.Length\")+  stat_smooth(method = \"lm\")+  theme_classic()"
   ]
  }
 ],
 "metadata": {
  "kernelspec": {
   "display_name": "R",
   "language": "R",
   "name": "ir"
  },
  "language_info": {
   "codemirror_mode": "r",
   "file_extension": ".r",
   "mimetype": "text/x-r-source",
   "name": "R",
   "pygments_lexer": "r",
   "version": "3.5.1"
  }
 },
 "nbformat": 4,
 "nbformat_minor": 4
}
